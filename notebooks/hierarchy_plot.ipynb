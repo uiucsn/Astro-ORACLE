{
 "cells": [
  {
   "cell_type": "code",
   "execution_count": 1,
   "id": "6c3d6c21-3247-4e49-b74e-c27eb602ae11",
   "metadata": {},
   "outputs": [],
   "source": [
    "import argparse\n",
    "import os\n",
    "import numpy as np\n",
    "import pandas as pd\n",
    "import matplotlib.pyplot as plt\n",
    "import random \n",
    "import networkx as nx\n",
    "\n",
    "from tensorflow import keras\n",
    "from tqdm import tqdm\n",
    "from pathlib import Path\n",
    "\n",
    "from astropy import units as u\n",
    "from astropy.coordinates import SkyCoord\n",
    "from tensorflow.keras.utils import pad_sequences\n",
    "from dataloader import LSSTSourceDataSet, load, get_augmented_data, get_static_features, ts_length, get_ts_upto_days_since_trigger, ts_flag_value, static_flag_value, augment_ts_length_to_days_since_trigger\n",
    "from loss import WHXE_Loss\n",
    "from taxonomy import get_taxonomy_tree, source_node_label\n",
    "from vizualizations import make_gif, plot_reliability_diagram, plot_data_set_composition, plot_day_vs_class_score, plot_lc, make_z_plots\n",
    "from interpret_results import get_conditional_probabilites, save_all_cf_and_rocs, save_leaf_cf_and_rocs, save_all_phase_vs_accuracy_plot\n",
    "from train_RNN import default_batch_size\n",
    "\n",
    "from LSST_Source import LSST_Source"
   ]
  },
  {
   "cell_type": "code",
   "execution_count": 313,
   "id": "2ddb8331-5270-4e87-b837-13282ab29050",
   "metadata": {},
   "outputs": [
    {
     "name": "stdout",
     "output_type": "stream",
     "text": [
      "Loading testing data from disc...\n"
     ]
    }
   ],
   "source": [
    "# This step takes a while because it has load from disc to memory...\n",
    "print(\"Loading testing data from disc...\")\n",
    "test_dir = Path(\"processed/test\")\n",
    "max_class_count = 12000\n",
    "\n",
    "X_ts = load(f\"{test_dir}/x_ts.pkl\")\n",
    "X_static = load(f\"{test_dir}/x_static.pkl\")\n",
    "Y = load(f\"{test_dir}/y.pkl\")\n",
    "astrophysical_classes = load(f\"{test_dir}/a_labels.pkl\")"
   ]
  },
  {
   "cell_type": "code",
   "execution_count": 314,
   "id": "b4e54d03-4fdd-4185-b82e-3ac0f041e1a2",
   "metadata": {},
   "outputs": [
    {
     "name": "stderr",
     "output_type": "stream",
     "text": [
      "100%|██████████████████████████████████████████████████████████████████████████████████████████████████████████████████████████████████████████████████| 463528/463528 [00:01<00:00, 255836.98it/s]\n"
     ]
    }
   ],
   "source": [
    "for i in tqdm(range(len(X_static))):        \n",
    "    X_static[i] = get_static_features(X_static[i])"
   ]
  },
  {
   "cell_type": "code",
   "execution_count": 512,
   "id": "d667f901-415a-41c9-9fa1-3faea1471fcb",
   "metadata": {},
   "outputs": [],
   "source": [
    "rare_class = \"TDE\""
   ]
  },
  {
   "cell_type": "code",
   "execution_count": 513,
   "id": "7ed94f50-194c-4192-a04d-0cd8445980c8",
   "metadata": {},
   "outputs": [],
   "source": [
    "X_ts_balanced = []\n",
    "X_static_balanced = []\n",
    "Y_balanced = []\n",
    "astrophysical_classes_balanced = []\n",
    "\n",
    "for c in np.unique(astrophysical_classes):\n",
    "\n",
    "    if c == rare_class:\n",
    "        idx = list(np.where(np.array(astrophysical_classes) == c)[0])\n",
    "        \n",
    "        if len(idx) > max_class_count:\n",
    "            idx = random.sample(idx, max_class_count)\n",
    "    \n",
    "        X_ts_balanced += [X_ts[i] for i in idx]\n",
    "        X_static_balanced += [X_static[i] for i in idx]\n",
    "        Y_balanced += [Y[i] for i in idx]\n",
    "        astrophysical_classes_balanced += [astrophysical_classes[i] for i in idx]"
   ]
  },
  {
   "cell_type": "code",
   "execution_count": 514,
   "id": "591b91af-cbbb-4cf0-b8ed-fb35a2499cf5",
   "metadata": {},
   "outputs": [],
   "source": [
    "model_dir =  \"models/lsst_alpha_0.5/\"\n",
    "tree = get_taxonomy_tree()\n",
    "model = keras.models.load_model(f\"{model_dir}/best_model.h5\", compile=False)"
   ]
  },
  {
   "cell_type": "code",
   "execution_count": 515,
   "id": "8186aa43-b3cd-4694-ae92-7fcaad01b596",
   "metadata": {
    "scrolled": true
   },
   "outputs": [
    {
     "data": {
      "text/plain": [
       "array([ 0,  1,  5, 18])"
      ]
     },
     "execution_count": 515,
     "metadata": {},
     "output_type": "execute_result"
    }
   ],
   "source": [
    "true_idx = np.where(Y_balanced[0]==1)[0]\n",
    "true_idx"
   ]
  },
  {
   "cell_type": "code",
   "execution_count": 516,
   "id": "5c21c9c8-a1de-41fa-ae4a-f243f25b9964",
   "metadata": {},
   "outputs": [],
   "source": [
    "N = len(X_static_balanced) # Number of samples\n",
    "D = 50 # Number of days\n",
    "days = np.arange(1, D, 1)"
   ]
  },
  {
   "cell_type": "code",
   "execution_count": 517,
   "id": "9b0d5dcc-a4ac-4f77-bf56-c2001de52949",
   "metadata": {},
   "outputs": [],
   "source": [
    "L1 = np.zeros((N, D))\n",
    "L2 = np.zeros((N, D))\n",
    "L3 = np.zeros((N, D))"
   ]
  },
  {
   "cell_type": "code",
   "execution_count": 518,
   "id": "4e0f19ed-486d-4688-ab0b-e212eb60d279",
   "metadata": {},
   "outputs": [
    {
     "name": "stdout",
     "output_type": "stream",
     "text": [
      "1/1 [==============================] - 12s 12s/step\n",
      "Day 1\n",
      "1/1 [==============================] - 10s 10s/step\n",
      "Day 2\n",
      "1/1 [==============================] - 10s 10s/step\n",
      "Day 3\n",
      "1/1 [==============================] - 10s 10s/step\n",
      "Day 4\n",
      "1/1 [==============================] - 9s 9s/step\n",
      "Day 5\n",
      "1/1 [==============================] - 9s 9s/step\n",
      "Day 6\n",
      "1/1 [==============================] - 9s 9s/step\n",
      "Day 7\n",
      "1/1 [==============================] - 9s 9s/step\n",
      "Day 8\n",
      "1/1 [==============================] - 9s 9s/step\n",
      "Day 9\n",
      "1/1 [==============================] - 9s 9s/step\n",
      "Day 10\n",
      "1/1 [==============================] - 9s 9s/step\n",
      "Day 11\n",
      "1/1 [==============================] - 9s 9s/step\n",
      "Day 12\n",
      "1/1 [==============================] - 10s 10s/step\n",
      "Day 13\n",
      "1/1 [==============================] - 9s 9s/step\n",
      "Day 14\n",
      "1/1 [==============================] - 9s 9s/step\n",
      "Day 15\n",
      "1/1 [==============================] - 9s 9s/step\n",
      "Day 16\n",
      "1/1 [==============================] - 8s 8s/step\n",
      "Day 17\n",
      "1/1 [==============================] - 8s 8s/step\n",
      "Day 18\n",
      "1/1 [==============================] - 8s 8s/step\n",
      "Day 19\n",
      "1/1 [==============================] - 7s 7s/step\n",
      "Day 20\n",
      "1/1 [==============================] - 7s 7s/step\n",
      "Day 21\n",
      "1/1 [==============================] - 7s 7s/step\n",
      "Day 22\n",
      "1/1 [==============================] - 7s 7s/step\n",
      "Day 23\n",
      "1/1 [==============================] - 7s 7s/step\n",
      "Day 24\n",
      "1/1 [==============================] - 7s 7s/step\n",
      "Day 25\n",
      "1/1 [==============================] - 7s 7s/step\n",
      "Day 26\n",
      "1/1 [==============================] - 7s 7s/step\n",
      "Day 27\n",
      "1/1 [==============================] - 7s 7s/step\n",
      "Day 28\n",
      "1/1 [==============================] - 7s 7s/step\n",
      "Day 29\n",
      "1/1 [==============================] - 9s 9s/step\n",
      "Day 30\n",
      "1/1 [==============================] - 8s 8s/step\n",
      "Day 31\n",
      "1/1 [==============================] - 7s 7s/step\n",
      "Day 32\n",
      "1/1 [==============================] - 7s 7s/step\n",
      "Day 33\n",
      "1/1 [==============================] - 7s 7s/step\n",
      "Day 34\n",
      "1/1 [==============================] - 7s 7s/step\n",
      "Day 35\n",
      "1/1 [==============================] - 7s 7s/step\n",
      "Day 36\n",
      "1/1 [==============================] - 7s 7s/step\n",
      "Day 37\n",
      "1/1 [==============================] - 7s 7s/step\n",
      "Day 38\n",
      "1/1 [==============================] - 9s 9s/step\n",
      "Day 39\n",
      "1/1 [==============================] - 9s 9s/step\n",
      "Day 40\n",
      "1/1 [==============================] - 8s 8s/step\n",
      "Day 41\n",
      "1/1 [==============================] - 7s 7s/step\n",
      "Day 42\n",
      "1/1 [==============================] - 7s 7s/step\n",
      "Day 43\n",
      "1/1 [==============================] - 7s 7s/step\n",
      "Day 44\n",
      "1/1 [==============================] - 7s 7s/step\n",
      "Day 45\n",
      "1/1 [==============================] - 9s 9s/step\n",
      "Day 46\n",
      "1/1 [==============================] - 8s 8s/step\n",
      "Day 47\n",
      "1/1 [==============================] - 7s 7s/step\n",
      "Day 48\n",
      "1/1 [==============================] - 7s 7s/step\n",
      "Day 49\n"
     ]
    }
   ],
   "source": [
    "for i in days:\n",
    "    x1, x2, y_true, _ = augment_ts_length_to_days_since_trigger(X_ts_balanced, X_static_balanced, Y_balanced, astrophysical_classes_balanced, i)\n",
    "    logits = model.predict([x1, x2], batch_size=12100)\n",
    "    _, pseudo_probabilities = get_conditional_probabilites(logits, tree)\n",
    "\n",
    "    print(\"Day\", i)\n",
    "    L1[:, i] = pseudo_probabilities[:, true_idx[1]]\n",
    "    L2[:, i] = pseudo_probabilities[:, true_idx[2]]\n",
    "    L3[:, i] = pseudo_probabilities[:, true_idx[3]]"
   ]
  },
  {
   "cell_type": "code",
   "execution_count": 519,
   "id": "74f446c6-95bc-4956-ab2a-5f917791a952",
   "metadata": {},
   "outputs": [],
   "source": [
    "threshold = 0.90\n",
    "flag_value = -9"
   ]
  },
  {
   "cell_type": "code",
   "execution_count": 520,
   "id": "b45752c8-b4c6-4298-8c9e-1cf4e156985e",
   "metadata": {},
   "outputs": [],
   "source": [
    "L1_days = []\n",
    "for i in range(N):\n",
    "    \n",
    "    above_threshold = np.where(L1[i, :]>threshold)[0]\n",
    "    if len(above_threshold) > 0:\n",
    "        days_to_threshold = above_threshold[0]\n",
    "        L1_days.append(days_to_threshold)\n",
    "    # else:\n",
    "    #     L1_days.append(flag_value)"
   ]
  },
  {
   "cell_type": "code",
   "execution_count": 521,
   "id": "28a70784-4774-448c-90bb-58ee3c508b58",
   "metadata": {},
   "outputs": [],
   "source": [
    "L2_days = []\n",
    "for i in range(N):\n",
    "    \n",
    "    above_threshold = np.where(L2[i, :]>threshold)[0]\n",
    "    if len(above_threshold) > 0:\n",
    "        days_to_threshold = above_threshold[0]\n",
    "        L2_days.append(days_to_threshold)\n",
    "    # else:\n",
    "    #     L2_days.append(flag_value)"
   ]
  },
  {
   "cell_type": "code",
   "execution_count": 522,
   "id": "98bd4534-7d69-4897-8827-1597cba16aed",
   "metadata": {},
   "outputs": [],
   "source": [
    "L3_days = []\n",
    "for i in range(N):\n",
    "    \n",
    "    above_threshold = np.where(L3[i, :]>threshold)[0]\n",
    "    if len(above_threshold) > 0:\n",
    "        days_to_threshold = above_threshold[0]\n",
    "        L3_days.append(days_to_threshold)\n",
    "    # else:\n",
    "    #     L3_days.append(flag_value)"
   ]
  },
  {
   "cell_type": "code",
   "execution_count": 523,
   "id": "07ce070a-5c56-4bae-889c-b7cbe0c8db51",
   "metadata": {},
   "outputs": [
    {
     "data": {
      "text/plain": [
       "(11703, 8966, 7705)"
      ]
     },
     "execution_count": 523,
     "metadata": {},
     "output_type": "execute_result"
    }
   ],
   "source": [
    "len(L1_days), len(L2_days), len(L3_days)"
   ]
  },
  {
   "cell_type": "code",
   "execution_count": 524,
   "id": "7d0c17d9-d1e5-465d-a704-5f2e82414cac",
   "metadata": {},
   "outputs": [
    {
     "data": {
      "image/png": "[encoded data removed]",
      "text/plain": [
       "<Figure size 640x480 with 1 Axes>"
      ]
     },
     "metadata": {},
     "output_type": "display_data"
    }
   ],
   "source": [
    "bins = np.arange(0, D+1, 2)\n",
    "\n",
    "L1_median = int(np.median(L1_days))\n",
    "L2_median = int(np.median(L2_days))\n",
    "L3_median = int(np.median(L3_days))\n",
    "\n",
    "plt.hist(L1_days, color=\"C1\", alpha=0.3, bins=bins, density=True)\n",
    "plt.hist(L1_days, color=\"C1\", bins=bins, density=True, histtype='step', linewidth=2)\n",
    "\n",
    "plt.hist(L2_days, color=\"C2\", alpha=0.3, bins=bins, density=True)\n",
    "plt.hist(L2_days, color=\"C2\", bins=bins, density=True, histtype='step', linewidth=2)\n",
    "\n",
    "plt.hist(L3_days, color=\"C3\", alpha=0.3, bins=bins, density=True)\n",
    "plt.hist(L3_days, color=\"C3\", bins=bins, density=True, histtype='step', linewidth=2)\n",
    "\n",
    "\n",
    "plt.axvline(L1_median, color=\"C1\", linestyle='--', linewidth=2, label=f\"Median Time to Transient Classification = {L1_median} day\")\n",
    "plt.axvline(L2_median, color=\"C2\", linestyle='--', linewidth=2, label=f\"Median Time to Long Transient Classification = {L2_median} day\")\n",
    "plt.axvline(L3_median, color=\"C3\", linestyle='--', linewidth=2, label=f\"Median Time to Tidal Disruption Event Classification = {L3_median} day\")\n",
    "\n",
    "plt.legend(fontsize='small')\n",
    "\n",
    "plt.xlabel(\"Days for confident classification\", fontsize='x-large')\n",
    "plt.ylabel(\"Density\",  fontsize='x-large')\n",
    "\n",
    "plt.yscale('log')\n",
    "plt.tight_layout()\n",
    "#plt.savefig(f'{model_dir}/TDE_levels.pdf')"
   ]
  },
  {
   "cell_type": "code",
   "execution_count": 525,
   "id": "70b88671-ccd6-45fb-95c8-3b00176be1e0",
   "metadata": {},
   "outputs": [
    {
     "data": {
      "text/plain": [
       "1.0"
      ]
     },
     "execution_count": 525,
     "metadata": {},
     "output_type": "execute_result"
    },
    {
     "data": {
      "image/png": "[encoded data removed]",
      "text/plain": [
       "<Figure size 640x480 with 1 Axes>"
      ]
     },
     "metadata": {},
     "output_type": "display_data"
    }
   ],
   "source": [
    "plt.hist(L1_days, alpha=0.5, bins=10)\n",
    "plt.yscale('log')\n",
    "np.median(L1_days)"
   ]
  },
  {
   "cell_type": "code",
   "execution_count": 526,
   "id": "31a81983-93c8-4c4b-b72c-0c60123d93cf",
   "metadata": {},
   "outputs": [
    {
     "data": {
      "text/plain": [
       "11.0"
      ]
     },
     "execution_count": 526,
     "metadata": {},
     "output_type": "execute_result"
    },
    {
     "data": {
      "image/png": "[encoded data removed]",
      "text/plain": [
       "<Figure size 640x480 with 1 Axes>"
      ]
     },
     "metadata": {},
     "output_type": "display_data"
    }
   ],
   "source": [
    "plt.hist(L2_days, alpha=0.5, bins=10)\n",
    "plt.yscale('log')\n",
    "np.median(L2_days)"
   ]
  },
  {
   "cell_type": "code",
   "execution_count": 527,
   "id": "1248f284-dcf4-4bde-8325-9545dc5cbbe9",
   "metadata": {},
   "outputs": [
    {
     "data": {
      "text/plain": [
       "21.0"
      ]
     },
     "execution_count": 527,
     "metadata": {},
     "output_type": "execute_result"
    },
    {
     "data": {
      "image/png": "[encoded data removed]",
      "text/plain": [
       "<Figure size 640x480 with 1 Axes>"
      ]
     },
     "metadata": {},
     "output_type": "display_data"
    }
   ],
   "source": [
    "plt.hist(L3_days, alpha=0.5, bins=10)\n",
    "plt.yscale('log')\n",
    "np.median(L3_days)"
   ]
  },
  {
   "cell_type": "code",
   "execution_count": 528,
   "id": "ea4e95ec-16fb-44da-bae3-f2e0ccd06b40",
   "metadata": {},
   "outputs": [
    {
     "data": {
      "text/plain": [
       "11703"
      ]
     },
     "execution_count": 528,
     "metadata": {},
     "output_type": "execute_result"
    }
   ],
   "source": [
    "len(L1_days)"
   ]
  },
  {
   "cell_type": "code",
   "execution_count": 529,
   "id": "262c6840-cf61-4ad1-9934-42e9544184c4",
   "metadata": {},
   "outputs": [
    {
     "data": {
      "text/plain": [
       "8966"
      ]
     },
     "execution_count": 529,
     "metadata": {},
     "output_type": "execute_result"
    }
   ],
   "source": [
    "len(L2_days)"
   ]
  },
  {
   "cell_type": "code",
   "execution_count": 530,
   "id": "d6af9999-0269-4643-9909-ed6dc3e376c3",
   "metadata": {},
   "outputs": [
    {
     "data": {
      "text/plain": [
       "7705"
      ]
     },
     "execution_count": 530,
     "metadata": {},
     "output_type": "execute_result"
    }
   ],
   "source": [
    "len(L3_days)"
   ]
  }
 ],
 "metadata": {
  "kernelspec": {
   "display_name": "Python 3 (ipykernel)",
   "language": "python",
   "name": "python3"
  },
  "language_info": {
   "codemirror_mode": {
    "name": "ipython",
    "version": 3
   },
   "file_extension": ".py",
   "mimetype": "text/x-python",
   "name": "python",
   "nbconvert_exporter": "python",
   "pygments_lexer": "ipython3",
   "version": "3.10.14"
  }
 },
 "nbformat": 4,
 "nbformat_minor": 5
}
