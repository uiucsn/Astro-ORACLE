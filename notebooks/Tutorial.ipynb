{
 "cells": [
  {
   "cell_type": "markdown",
   "id": "035669e7-0c16-454a-a583-6264c4ec8c45",
   "metadata": {},
   "source": [
    "# ORACLE Tutorial\n",
    "\n",
    "**References:**\n",
    "\n",
    "arXiv: https://arxiv.org/abs/2501.01496 \\\n",
    "Github: https://github.com/uiucsn/ELAsTiCC-Classification"
   ]
  },
  {
   "cell_type": "markdown",
   "id": "b3fecf31-c612-46d5-80fb-6f0d34c8b6f3",
   "metadata": {},
   "source": [
    "## Imports"
   ]
  },
  {
   "cell_type": "code",
   "execution_count": 1,
   "id": "3ae22535-43c6-419c-90f6-0f555da10ed2",
   "metadata": {},
   "outputs": [],
   "source": [
    "import tqdm\n",
    "\n",
    "from astropy.table import Table\n",
    "\n",
    "from astroOracle.pretrained_models import ORACLE, ORACLE_lite"
   ]
  },
  {
   "cell_type": "markdown",
   "id": "f3abd104-fd25-4b30-b8a4-5903c8eec7df",
   "metadata": {},
   "source": [
    "## Read in the data"
   ]
  },
  {
   "cell_type": "markdown",
   "id": "af9a3e2f-5e6c-4da2-a79e-f0923fc02598",
   "metadata": {},
   "source": [
    "First we need to read in the data. Here, we read in an astropy table that has both the light curve and meta data."
   ]
  },
  {
   "cell_type": "code",
   "execution_count": 2,
   "id": "877329c9-b362-43bb-be51-1509e53aecab",
   "metadata": {},
   "outputs": [
    {
     "data": {
      "text/html": [
       "<div><i>Table length=226</i>\n",
       "<table id=\"table5924946800\" class=\"table-striped table-bordered table-condensed\">\n",
       "<thead><tr><th>MJD</th><th>BAND</th><th>FLUXCAL</th><th>FLUXCALERR</th><th>PHOTFLAG</th></tr></thead>\n",
       "<thead><tr><th>float64</th><th>str1</th><th>float32</th><th>float32</th><th>int32</th></tr></thead>\n",
       "<tr><td>0.0</td><td>z</td><td>29.873867</td><td>14.653912</td><td>0</td></tr>\n",
       "<tr><td>0.024899999996705443</td><td>i</td><td>-129.364</td><td>11.491417</td><td>6144</td></tr>\n",
       "<tr><td>10.001400000001013</td><td>u</td><td>32.23296</td><td>12.735434</td><td>0</td></tr>\n",
       "<tr><td>10.025099999998929</td><td>r</td><td>770.2578</td><td>9.1456175</td><td>4096</td></tr>\n",
       "<tr><td>11.997699999999895</td><td>u</td><td>8.7568035</td><td>5.6472173</td><td>0</td></tr>\n",
       "<tr><td>12.020400000001246</td><td>r</td><td>758.1768</td><td>8.05634</td><td>4096</td></tr>\n",
       "<tr><td>13.921799999996438</td><td>i</td><td>-131.09286</td><td>7.7958207</td><td>4096</td></tr>\n",
       "<tr><td>13.933599999996659</td><td>i</td><td>-127.39846</td><td>4.635382</td><td>4096</td></tr>\n",
       "<tr><td>13.935399999994843</td><td>r</td><td>572.88477</td><td>5.6019444</td><td>4096</td></tr>\n",
       "<tr><td>...</td><td>...</td><td>...</td><td>...</td><td>...</td></tr>\n",
       "<tr><td>1093.002999999997</td><td>r</td><td>3672.4246</td><td>20.316454</td><td>4096</td></tr>\n",
       "<tr><td>1093.0267999999996</td><td>i</td><td>-66.70862</td><td>8.183581</td><td>4096</td></tr>\n",
       "<tr><td>1096.0049999999974</td><td>g</td><td>-5413.5063</td><td>28.682953</td><td>4096</td></tr>\n",
       "<tr><td>1096.0288</td><td>r</td><td>3589.9458</td><td>19.657766</td><td>4096</td></tr>\n",
       "<tr><td>1096.9859999999971</td><td>r</td><td>4806.699</td><td>25.073511</td><td>4096</td></tr>\n",
       "<tr><td>1097.0109999999986</td><td>i</td><td>-41.107082</td><td>7.802388</td><td>0</td></tr>\n",
       "<tr><td>1101.0003999999972</td><td>g</td><td>-9773.323</td><td>46.225048</td><td>4096</td></tr>\n",
       "<tr><td>1101.0017000000007</td><td>g</td><td>-9727.491</td><td>46.16012</td><td>4096</td></tr>\n",
       "<tr><td>1101.0242999999973</td><td>r</td><td>9092.252</td><td>44.901302</td><td>4096</td></tr>\n",
       "<tr><td>1101.0256000000008</td><td>r</td><td>9009.814</td><td>44.73475</td><td>4096</td></tr>\n",
       "</table></div>"
      ],
      "text/plain": [
       "<Table length=226>\n",
       "        MJD          BAND  FLUXCAL   FLUXCALERR PHOTFLAG\n",
       "      float64        str1  float32    float32    int32  \n",
       "-------------------- ---- ---------- ---------- --------\n",
       "                 0.0    z  29.873867  14.653912        0\n",
       "0.024899999996705443    i   -129.364  11.491417     6144\n",
       "  10.001400000001013    u   32.23296  12.735434        0\n",
       "  10.025099999998929    r   770.2578  9.1456175     4096\n",
       "  11.997699999999895    u  8.7568035  5.6472173        0\n",
       "  12.020400000001246    r   758.1768    8.05634     4096\n",
       "  13.921799999996438    i -131.09286  7.7958207     4096\n",
       "  13.933599999996659    i -127.39846   4.635382     4096\n",
       "  13.935399999994843    r  572.88477  5.6019444     4096\n",
       "                 ...  ...        ...        ...      ...\n",
       "   1093.002999999997    r  3672.4246  20.316454     4096\n",
       "  1093.0267999999996    i  -66.70862   8.183581     4096\n",
       "  1096.0049999999974    g -5413.5063  28.682953     4096\n",
       "           1096.0288    r  3589.9458  19.657766     4096\n",
       "  1096.9859999999971    r   4806.699  25.073511     4096\n",
       "  1097.0109999999986    i -41.107082   7.802388        0\n",
       "  1101.0003999999972    g  -9773.323  46.225048     4096\n",
       "  1101.0017000000007    g  -9727.491   46.16012     4096\n",
       "  1101.0242999999973    r   9092.252  44.901302     4096\n",
       "  1101.0256000000008    r   9009.814   44.73475     4096"
      ]
     },
     "execution_count": 2,
     "metadata": {},
     "output_type": "execute_result"
    }
   ],
   "source": [
    "table=Table.read('AGN_17032813.ecsv')\n",
    "table"
   ]
  },
  {
   "cell_type": "markdown",
   "id": "24289884-78e5-417e-9ede-429c9601bfb6",
   "metadata": {},
   "source": [
    "The time series data **MUST** have all these columns for the classifier to work correctly. Please read the SNANA documentation and ORACLE paper for more details."
   ]
  },
  {
   "cell_type": "code",
   "execution_count": 3,
   "id": "91061b2f-0736-46cc-967a-38a3c7cb54d4",
   "metadata": {},
   "outputs": [
    {
     "data": {
      "text/plain": [
       "OrderedDict([('RA', 8.254658693564833),\n",
       "             ('DEC', -19.237007751492673),\n",
       "             ('MWEBV', 0.019017742946743965),\n",
       "             ('MWEBV_ERR', 0.0009508871589787304),\n",
       "             ('REDSHIFT_HELIO', 0.2852136790752411),\n",
       "             ('REDSHIFT_HELIO_ERR', 0.29243001341819763),\n",
       "             ('VPEC', 0.0),\n",
       "             ('VPEC_ERR', 300.0),\n",
       "             ('HOSTGAL_PHOTOZ', 0.2852136790752411),\n",
       "             ('HOSTGAL_PHOTOZ_ERR', 0.29243001341819763),\n",
       "             ('HOSTGAL_SPECZ', -9.0),\n",
       "             ('HOSTGAL_SPECZ_ERR', -9.0),\n",
       "             ('HOSTGAL_RA', 8.25465074942761),\n",
       "             ('HOSTGAL_DEC', -19.2370160461322),\n",
       "             ('HOSTGAL_SNSEP', 0.040309689939022064),\n",
       "             ('HOSTGAL_DDLR', 0.06043460965156555),\n",
       "             ('HOSTGAL_LOGMASS', 7.819200038909912),\n",
       "             ('HOSTGAL_LOGMASS_ERR', -9999.0),\n",
       "             ('HOSTGAL_LOGSFR', -9999.0),\n",
       "             ('HOSTGAL_LOGSFR_ERR', -9999.0),\n",
       "             ('HOSTGAL_LOGsSFR', -9999.0),\n",
       "             ('HOSTGAL_LOGsSFR_ERR', -9999.0),\n",
       "             ('HOSTGAL_COLOR', -9999.0),\n",
       "             ('HOSTGAL_COLOR_ERR', -9999.0),\n",
       "             ('HOSTGAL_ELLIPTICITY', 0.2946999967098236),\n",
       "             ('HOSTGAL_MAG_u', 25.923744201660156),\n",
       "             ('HOSTGAL_MAG_g', 24.598026275634766),\n",
       "             ('HOSTGAL_MAG_r', 23.786739349365234),\n",
       "             ('HOSTGAL_MAG_i', 23.446096420288086),\n",
       "             ('HOSTGAL_MAG_z', 23.174684524536133),\n",
       "             ('HOSTGAL_MAG_Y', 23.133522033691406),\n",
       "             ('HOSTGAL_MAGERR_u', 0.8679500222206116),\n",
       "             ('HOSTGAL_MAGERR_g', 0.07744999974966049),\n",
       "             ('HOSTGAL_MAGERR_r', 0.038029998540878296),\n",
       "             ('HOSTGAL_MAGERR_i', 0.04075000062584877),\n",
       "             ('HOSTGAL_MAGERR_z', 0.05403999984264374),\n",
       "             ('HOSTGAL_MAGERR_Y', 0.1133200004696846),\n",
       "             ('MW_plane_flag', 0),\n",
       "             ('ELAIS_S1_flag', 0),\n",
       "             ('XMM-LSS_flag', 0),\n",
       "             ('Extended_Chandra_Deep_Field-South_flag', 0),\n",
       "             ('COSMOS_flag', 0)])"
      ]
     },
     "execution_count": 3,
     "metadata": {},
     "output_type": "execute_result"
    }
   ],
   "source": [
    "table.meta"
   ]
  },
  {
   "cell_type": "markdown",
   "id": "951c604e-42e1-463b-a79c-e115d456a706",
   "metadata": {},
   "source": [
    "The meta data is useful, but not necessary for classification. You can also read in just the light curve data and use Oracle-lite instead (details below).\n",
    "\n",
    "If you are interested in classifying a large batch of sources (in SNANA fits format), astroOracle.dataloader has tools for this purpose. Please look through astroOracle.trainRNN for example usage. "
   ]
  },
  {
   "cell_type": "markdown",
   "id": "dc8c34fd-800f-486a-bc7a-5e79a96bf6d4",
   "metadata": {},
   "source": [
    "## Load the model\n",
    "\n",
    "Next we load the model"
   ]
  },
  {
   "cell_type": "code",
   "execution_count": 4,
   "id": "bb3196be-d88d-4d9f-b02b-608fde0feb4d",
   "metadata": {},
   "outputs": [
    {
     "name": "stdout",
     "output_type": "stream",
     "text": [
      "Model loaded from ../models/lsst_alpha_0.5/best_model.h5\n"
     ]
    }
   ],
   "source": [
    "model = ORACLE('../models/lsst_alpha_0.5/best_model.h5')"
   ]
  },
  {
   "cell_type": "markdown",
   "id": "874552df-787e-42fd-95ac-ce6e133ea54d",
   "metadata": {},
   "source": [
    "## Run Inference"
   ]
  },
  {
   "cell_type": "code",
   "execution_count": 5,
   "id": "fcf442d8-5ac0-4997-b600-202f475d3f32",
   "metadata": {},
   "outputs": [
    {
     "name": "stderr",
     "output_type": "stream",
     "text": [
      "TS Processing: 100%|█████████████████████████████████████████████████████████████████████████████████████████████████████████████████████████████████████████████████| 1/1 [00:00<00:00, 243.32it/s]\n",
      "Static Processing: 100%|███████████████████████████████████████████████████████████████████████████████████████████████████████████████████████████████████████████| 1/1 [00:00<00:00, 15420.24it/s]\n"
     ]
    },
    {
     "data": {
      "text/html": [
       "<div>\n",
       "<style scoped>\n",
       "    .dataframe tbody tr th:only-of-type {\n",
       "        vertical-align: middle;\n",
       "    }\n",
       "\n",
       "    .dataframe tbody tr th {\n",
       "        vertical-align: top;\n",
       "    }\n",
       "\n",
       "    .dataframe thead th {\n",
       "        text-align: right;\n",
       "    }\n",
       "</style>\n",
       "<table border=\"1\" class=\"dataframe\">\n",
       "  <thead>\n",
       "    <tr style=\"text-align: right;\">\n",
       "      <th></th>\n",
       "      <th>Alert</th>\n",
       "      <th>Transient</th>\n",
       "      <th>Variable</th>\n",
       "      <th>SN</th>\n",
       "      <th>Fast</th>\n",
       "      <th>Long</th>\n",
       "      <th>Periodic</th>\n",
       "      <th>AGN</th>\n",
       "      <th>SNIa</th>\n",
       "      <th>SNIb/c</th>\n",
       "      <th>...</th>\n",
       "      <th>M-dwarf Flare</th>\n",
       "      <th>SLSN</th>\n",
       "      <th>TDE</th>\n",
       "      <th>ILOT</th>\n",
       "      <th>CART</th>\n",
       "      <th>PISN</th>\n",
       "      <th>Cepheid</th>\n",
       "      <th>RR Lyrae</th>\n",
       "      <th>Delta Scuti</th>\n",
       "      <th>EB</th>\n",
       "    </tr>\n",
       "  </thead>\n",
       "  <tbody>\n",
       "    <tr>\n",
       "      <th>0</th>\n",
       "      <td>1.0</td>\n",
       "      <td>1.649743e-11</td>\n",
       "      <td>1.0</td>\n",
       "      <td>1.699400e-14</td>\n",
       "      <td>1.448357e-25</td>\n",
       "      <td>1.648044e-11</td>\n",
       "      <td>5.459642e-18</td>\n",
       "      <td>1.0</td>\n",
       "      <td>1.227276e-19</td>\n",
       "      <td>2.582632e-21</td>\n",
       "      <td>...</td>\n",
       "      <td>1.093013e-43</td>\n",
       "      <td>1.647708e-11</td>\n",
       "      <td>1.948153e-24</td>\n",
       "      <td>1.017798e-25</td>\n",
       "      <td>2.693979e-30</td>\n",
       "      <td>3.359413e-15</td>\n",
       "      <td>1.046392e-35</td>\n",
       "      <td>5.476987e-20</td>\n",
       "      <td>1.473753e-27</td>\n",
       "      <td>5.404873e-18</td>\n",
       "    </tr>\n",
       "  </tbody>\n",
       "</table>\n",
       "<p>1 rows × 26 columns</p>\n",
       "</div>"
      ],
      "text/plain": [
       "   Alert     Transient  Variable            SN          Fast          Long  \\\n",
       "0    1.0  1.649743e-11       1.0  1.699400e-14  1.448357e-25  1.648044e-11   \n",
       "\n",
       "       Periodic  AGN          SNIa        SNIb/c  ...  M-dwarf Flare  \\\n",
       "0  5.459642e-18  1.0  1.227276e-19  2.582632e-21  ...   1.093013e-43   \n",
       "\n",
       "           SLSN           TDE          ILOT          CART          PISN  \\\n",
       "0  1.647708e-11  1.948153e-24  1.017798e-25  2.693979e-30  3.359413e-15   \n",
       "\n",
       "        Cepheid      RR Lyrae   Delta Scuti            EB  \n",
       "0  1.046392e-35  5.476987e-20  1.473753e-27  5.404873e-18  \n",
       "\n",
       "[1 rows x 26 columns]"
      ]
     },
     "execution_count": 5,
     "metadata": {},
     "output_type": "execute_result"
    }
   ],
   "source": [
    "model.predict([table.to_pandas()], [table.meta])"
   ]
  },
  {
   "cell_type": "markdown",
   "id": "942159ee-fa30-45d7-8c22-f4d8d401a18f",
   "metadata": {},
   "source": [
    "This gives us the class probabilites for each class in the taxonomy. We can also directly get the class label"
   ]
  },
  {
   "cell_type": "code",
   "execution_count": 6,
   "id": "1a329133-540a-451a-bb6e-aeeb19e3614c",
   "metadata": {},
   "outputs": [
    {
     "name": "stderr",
     "output_type": "stream",
     "text": [
      "TS Processing: 100%|█████████████████████████████████████████████████████████████████████████████████████████████████████████████████████████████████████████████████| 1/1 [00:00<00:00, 599.87it/s]\n",
      "Static Processing: 100%|███████████████████████████████████████████████████████████████████████████████████████████████████████████████████████████████████████████| 1/1 [00:00<00:00, 30393.51it/s]\n"
     ]
    },
    {
     "data": {
      "text/plain": [
       "array(['AGN'], dtype='<U13')"
      ]
     },
     "execution_count": 6,
     "metadata": {},
     "output_type": "execute_result"
    }
   ],
   "source": [
    "model.predict_classes([table.to_pandas()], [table.meta])"
   ]
  },
  {
   "cell_type": "markdown",
   "id": "fb4472e7-6fc7-4637-8022-a5a08627ed0b",
   "metadata": {},
   "source": [
    "Similarly, we can also classify a list of sources together. "
   ]
  },
  {
   "cell_type": "code",
   "execution_count": 7,
   "id": "5c90bb06-938c-43ac-bbf2-e4392a0c5713",
   "metadata": {},
   "outputs": [
    {
     "name": "stderr",
     "output_type": "stream",
     "text": [
      "TS Processing: 100%|█████████████████████████████████████████████████████████████████████████████████████████████████████████████████████████████████████████████████| 2/2 [00:00<00:00, 729.38it/s]\n",
      "Static Processing: 100%|███████████████████████████████████████████████████████████████████████████████████████████████████████████████████████████████████████████| 2/2 [00:00<00:00, 62137.84it/s]\n"
     ]
    },
    {
     "data": {
      "text/html": [
       "<div>\n",
       "<style scoped>\n",
       "    .dataframe tbody tr th:only-of-type {\n",
       "        vertical-align: middle;\n",
       "    }\n",
       "\n",
       "    .dataframe tbody tr th {\n",
       "        vertical-align: top;\n",
       "    }\n",
       "\n",
       "    .dataframe thead th {\n",
       "        text-align: right;\n",
       "    }\n",
       "</style>\n",
       "<table border=\"1\" class=\"dataframe\">\n",
       "  <thead>\n",
       "    <tr style=\"text-align: right;\">\n",
       "      <th></th>\n",
       "      <th>Alert</th>\n",
       "      <th>Transient</th>\n",
       "      <th>Variable</th>\n",
       "      <th>SN</th>\n",
       "      <th>Fast</th>\n",
       "      <th>Long</th>\n",
       "      <th>Periodic</th>\n",
       "      <th>AGN</th>\n",
       "      <th>SNIa</th>\n",
       "      <th>SNIb/c</th>\n",
       "      <th>...</th>\n",
       "      <th>M-dwarf Flare</th>\n",
       "      <th>SLSN</th>\n",
       "      <th>TDE</th>\n",
       "      <th>ILOT</th>\n",
       "      <th>CART</th>\n",
       "      <th>PISN</th>\n",
       "      <th>Cepheid</th>\n",
       "      <th>RR Lyrae</th>\n",
       "      <th>Delta Scuti</th>\n",
       "      <th>EB</th>\n",
       "    </tr>\n",
       "  </thead>\n",
       "  <tbody>\n",
       "    <tr>\n",
       "      <th>0</th>\n",
       "      <td>1.0</td>\n",
       "      <td>1.649743e-11</td>\n",
       "      <td>1.0</td>\n",
       "      <td>1.699400e-14</td>\n",
       "      <td>1.448357e-25</td>\n",
       "      <td>1.648044e-11</td>\n",
       "      <td>5.459642e-18</td>\n",
       "      <td>1.0</td>\n",
       "      <td>1.227276e-19</td>\n",
       "      <td>2.582632e-21</td>\n",
       "      <td>...</td>\n",
       "      <td>1.093013e-43</td>\n",
       "      <td>1.647708e-11</td>\n",
       "      <td>1.948153e-24</td>\n",
       "      <td>1.017798e-25</td>\n",
       "      <td>2.693979e-30</td>\n",
       "      <td>3.359413e-15</td>\n",
       "      <td>1.046392e-35</td>\n",
       "      <td>5.476987e-20</td>\n",
       "      <td>1.473753e-27</td>\n",
       "      <td>5.404873e-18</td>\n",
       "    </tr>\n",
       "    <tr>\n",
       "      <th>1</th>\n",
       "      <td>1.0</td>\n",
       "      <td>1.649743e-11</td>\n",
       "      <td>1.0</td>\n",
       "      <td>1.699400e-14</td>\n",
       "      <td>1.448357e-25</td>\n",
       "      <td>1.648044e-11</td>\n",
       "      <td>5.459642e-18</td>\n",
       "      <td>1.0</td>\n",
       "      <td>1.227276e-19</td>\n",
       "      <td>2.582632e-21</td>\n",
       "      <td>...</td>\n",
       "      <td>1.093013e-43</td>\n",
       "      <td>1.647708e-11</td>\n",
       "      <td>1.948153e-24</td>\n",
       "      <td>1.017798e-25</td>\n",
       "      <td>2.693979e-30</td>\n",
       "      <td>3.359413e-15</td>\n",
       "      <td>1.046392e-35</td>\n",
       "      <td>5.476987e-20</td>\n",
       "      <td>1.473753e-27</td>\n",
       "      <td>5.404873e-18</td>\n",
       "    </tr>\n",
       "  </tbody>\n",
       "</table>\n",
       "<p>2 rows × 26 columns</p>\n",
       "</div>"
      ],
      "text/plain": [
       "   Alert     Transient  Variable            SN          Fast          Long  \\\n",
       "0    1.0  1.649743e-11       1.0  1.699400e-14  1.448357e-25  1.648044e-11   \n",
       "1    1.0  1.649743e-11       1.0  1.699400e-14  1.448357e-25  1.648044e-11   \n",
       "\n",
       "       Periodic  AGN          SNIa        SNIb/c  ...  M-dwarf Flare  \\\n",
       "0  5.459642e-18  1.0  1.227276e-19  2.582632e-21  ...   1.093013e-43   \n",
       "1  5.459642e-18  1.0  1.227276e-19  2.582632e-21  ...   1.093013e-43   \n",
       "\n",
       "           SLSN           TDE          ILOT          CART          PISN  \\\n",
       "0  1.647708e-11  1.948153e-24  1.017798e-25  2.693979e-30  3.359413e-15   \n",
       "1  1.647708e-11  1.948153e-24  1.017798e-25  2.693979e-30  3.359413e-15   \n",
       "\n",
       "        Cepheid      RR Lyrae   Delta Scuti            EB  \n",
       "0  1.046392e-35  5.476987e-20  1.473753e-27  5.404873e-18  \n",
       "1  1.046392e-35  5.476987e-20  1.473753e-27  5.404873e-18  \n",
       "\n",
       "[2 rows x 26 columns]"
      ]
     },
     "execution_count": 7,
     "metadata": {},
     "output_type": "execute_result"
    }
   ],
   "source": [
    "model.predict([table.to_pandas(), table.to_pandas()], [table.meta, table.meta])"
   ]
  },
  {
   "cell_type": "markdown",
   "id": "9fe9a927-19ab-44a8-8974-5b36e07dcd9f",
   "metadata": {},
   "source": [
    "## Try Oracle Lite\n",
    "\n",
    "Sometimes, we may not have access to meta data for classification. For this purpose, we trained another version of the model called Oracle-lite. Oracle-lite is capable of doing the same real time, hierarchichal classification as the full Oracle model, although the full model maintains superior performance."
   ]
  },
  {
   "cell_type": "code",
   "execution_count": 8,
   "id": "4ebbca6a-f80d-412c-a962-a25c9da45c74",
   "metadata": {},
   "outputs": [
    {
     "name": "stdout",
     "output_type": "stream",
     "text": [
      "Model loaded from ../models/lsst_alpha_0.5_no_md/best_model.h5\n"
     ]
    }
   ],
   "source": [
    "model = ORACLE_lite('../models/lsst_alpha_0.5_no_md/best_model.h5')"
   ]
  },
  {
   "cell_type": "markdown",
   "id": "0d893de9-69e3-4e86-9c1e-03e0114755fb",
   "metadata": {},
   "source": [
    "The API for the two models is the same with the obvious exception of the meta data"
   ]
  },
  {
   "cell_type": "code",
   "execution_count": 9,
   "id": "3ecc9f3b-e7bd-40e7-905b-ce5dc6415da8",
   "metadata": {},
   "outputs": [
    {
     "name": "stderr",
     "output_type": "stream",
     "text": [
      "TS Processing: 100%|█████████████████████████████████████████████████████████████████████████████████████████████████████████████████████████████████████████████████| 1/1 [00:00<00:00, 652.71it/s]\n"
     ]
    },
    {
     "data": {
      "text/html": [
       "<div>\n",
       "<style scoped>\n",
       "    .dataframe tbody tr th:only-of-type {\n",
       "        vertical-align: middle;\n",
       "    }\n",
       "\n",
       "    .dataframe tbody tr th {\n",
       "        vertical-align: top;\n",
       "    }\n",
       "\n",
       "    .dataframe thead th {\n",
       "        text-align: right;\n",
       "    }\n",
       "</style>\n",
       "<table border=\"1\" class=\"dataframe\">\n",
       "  <thead>\n",
       "    <tr style=\"text-align: right;\">\n",
       "      <th></th>\n",
       "      <th>Alert</th>\n",
       "      <th>Transient</th>\n",
       "      <th>Variable</th>\n",
       "      <th>SN</th>\n",
       "      <th>Fast</th>\n",
       "      <th>Long</th>\n",
       "      <th>Periodic</th>\n",
       "      <th>AGN</th>\n",
       "      <th>SNIa</th>\n",
       "      <th>SNIb/c</th>\n",
       "      <th>...</th>\n",
       "      <th>M-dwarf Flare</th>\n",
       "      <th>SLSN</th>\n",
       "      <th>TDE</th>\n",
       "      <th>ILOT</th>\n",
       "      <th>CART</th>\n",
       "      <th>PISN</th>\n",
       "      <th>Cepheid</th>\n",
       "      <th>RR Lyrae</th>\n",
       "      <th>Delta Scuti</th>\n",
       "      <th>EB</th>\n",
       "    </tr>\n",
       "  </thead>\n",
       "  <tbody>\n",
       "    <tr>\n",
       "      <th>0</th>\n",
       "      <td>1.0</td>\n",
       "      <td>1.946860e-08</td>\n",
       "      <td>1.0</td>\n",
       "      <td>6.914028e-16</td>\n",
       "      <td>1.932542e-08</td>\n",
       "      <td>1.431834e-10</td>\n",
       "      <td>0.004392</td>\n",
       "      <td>0.995608</td>\n",
       "      <td>2.925498e-21</td>\n",
       "      <td>1.472778e-17</td>\n",
       "      <td>...</td>\n",
       "      <td>6.633189e-23</td>\n",
       "      <td>3.174507e-16</td>\n",
       "      <td>1.838745e-19</td>\n",
       "      <td>1.431770e-10</td>\n",
       "      <td>4.029926e-17</td>\n",
       "      <td>6.007277e-15</td>\n",
       "      <td>0.002556</td>\n",
       "      <td>0.000032</td>\n",
       "      <td>0.000664</td>\n",
       "      <td>0.00114</td>\n",
       "    </tr>\n",
       "  </tbody>\n",
       "</table>\n",
       "<p>1 rows × 26 columns</p>\n",
       "</div>"
      ],
      "text/plain": [
       "   Alert     Transient  Variable            SN          Fast          Long  \\\n",
       "0    1.0  1.946860e-08       1.0  6.914028e-16  1.932542e-08  1.431834e-10   \n",
       "\n",
       "   Periodic       AGN          SNIa        SNIb/c  ...  M-dwarf Flare  \\\n",
       "0  0.004392  0.995608  2.925498e-21  1.472778e-17  ...   6.633189e-23   \n",
       "\n",
       "           SLSN           TDE          ILOT          CART          PISN  \\\n",
       "0  3.174507e-16  1.838745e-19  1.431770e-10  4.029926e-17  6.007277e-15   \n",
       "\n",
       "    Cepheid  RR Lyrae  Delta Scuti       EB  \n",
       "0  0.002556  0.000032     0.000664  0.00114  \n",
       "\n",
       "[1 rows x 26 columns]"
      ]
     },
     "execution_count": 9,
     "metadata": {},
     "output_type": "execute_result"
    }
   ],
   "source": [
    "model.predict([table.to_pandas()])"
   ]
  },
  {
   "cell_type": "code",
   "execution_count": 10,
   "id": "65aedf69-e0c2-4987-91a3-fa72b7fa8f72",
   "metadata": {},
   "outputs": [
    {
     "name": "stderr",
     "output_type": "stream",
     "text": [
      "TS Processing: 100%|█████████████████████████████████████████████████████████████████████████████████████████████████████████████████████████████████████████████████| 1/1 [00:00<00:00, 625.46it/s]\n"
     ]
    },
    {
     "data": {
      "text/plain": [
       "array(['AGN'], dtype='<U13')"
      ]
     },
     "execution_count": 10,
     "metadata": {},
     "output_type": "execute_result"
    }
   ],
   "source": [
    "model.predict_classes([table.to_pandas()])"
   ]
  },
  {
   "cell_type": "code",
   "execution_count": 11,
   "id": "df5aeb74-18d1-47fa-bae9-3b749063669d",
   "metadata": {},
   "outputs": [
    {
     "name": "stderr",
     "output_type": "stream",
     "text": [
      "TS Processing: 100%|█████████████████████████████████████████████████████████████████████████████████████████████████████████████████████████████████████████████████| 2/2 [00:00<00:00, 611.59it/s]\n"
     ]
    },
    {
     "data": {
      "text/plain": [
       "array(['AGN', 'AGN'], dtype='<U13')"
      ]
     },
     "execution_count": 11,
     "metadata": {},
     "output_type": "execute_result"
    }
   ],
   "source": [
    "model.predict_classes([table.to_pandas(), table.to_pandas()])"
   ]
  }
 ],
 "metadata": {
  "kernelspec": {
   "display_name": "Python 3 (ipykernel)",
   "language": "python",
   "name": "python3"
  },
  "language_info": {
   "codemirror_mode": {
    "name": "ipython",
    "version": 3
   },
   "file_extension": ".py",
   "mimetype": "text/x-python",
   "name": "python",
   "nbconvert_exporter": "python",
   "pygments_lexer": "ipython3",
   "version": "3.10.16"
  }
 },
 "nbformat": 4,
 "nbformat_minor": 5
}
